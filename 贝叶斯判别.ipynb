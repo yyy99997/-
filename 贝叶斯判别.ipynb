{
 "cells": [
  {
   "cell_type": "code",
   "execution_count": 2,
   "id": "d7b64451",
   "metadata": {},
   "outputs": [],
   "source": [
    "import numpy as np\n",
    "import math"
   ]
  },
  {
   "cell_type": "code",
   "execution_count": 67,
   "id": "4757012f",
   "metadata": {},
   "outputs": [
    {
     "name": "stdout",
     "output_type": "stream",
     "text": [
      "输入第一类样本数:\n",
      "4\n",
      "输入第一类样本（空格分隔特征，回车分隔样本）:\n",
      "0 0 0\n",
      "1 0 1\n",
      "1 0 0\n",
      "1 1 0\n",
      "[[0, 0, 0], [1, 0, 1], [1, 0, 0], [1, 1, 0]]\n"
     ]
    }
   ],
   "source": [
    "print(\"输入第一类样本数:\")\n",
    "n=int(input())\n",
    "print(\"输入第一类样本（空格分隔特征，回车分隔样本）:\")\n",
    "arr1= []\n",
    "for i in range(n):\n",
    "    arr1.append(list(map(int,input().rstrip().split())))\n",
    "print(arr1)\n"
   ]
  },
  {
   "cell_type": "code",
   "execution_count": 73,
   "id": "473843de",
   "metadata": {},
   "outputs": [
    {
     "name": "stdout",
     "output_type": "stream",
     "text": [
      "输入第二类样本数:\n",
      "4\n",
      "输入第二类样本（空格分隔特征，回车分隔样本）:\n",
      "0 0 1\n",
      "0 1 1\n",
      "1 1 1\n",
      "0 1 0\n",
      "[[0, 0, 1], [0, 1, 1], [1, 1, 1], [0, 1, 0]]\n"
     ]
    }
   ],
   "source": [
    "print(\"输入第二类样本数:\")\n",
    "m=int(input())\n",
    "print(\"输入第二类样本（空格分隔特征，回车分隔样本）:\")\n",
    "arr2= []\n",
    "for i in range(m):\n",
    "    arr2.append(list(map(int,input().rstrip().split())))\n",
    "print(arr2)\n"
   ]
  },
  {
   "cell_type": "raw",
   "id": "e957f361",
   "metadata": {},
   "source": []
  },
  {
   "cell_type": "code",
   "execution_count": 74,
   "id": "9ec71a41",
   "metadata": {},
   "outputs": [
    {
     "name": "stdout",
     "output_type": "stream",
     "text": [
      "[3 1 1]\n",
      "m1: [0.75 0.25 0.25]\n",
      "[1 3 3]\n",
      "m2: [0.25 0.75 0.75]\n"
     ]
    }
   ],
   "source": [
    "m1=np.array(0)\n",
    "for i in range(n):\n",
    "    m1=m1+np.array(arr1[i])\n",
    "print(m1)\n",
    "m1=m1/n\n",
    "print(\"m1:\",m1)\n",
    "\n",
    "m2=np.array(0)\n",
    "for i in range(m):\n",
    "    m2=m2+np.array(arr2[i])\n",
    "print(m2)\n",
    "m2=m2/m\n",
    "print(\"m2:\",m2)"
   ]
  },
  {
   "cell_type": "code",
   "execution_count": 3,
   "id": "89300bf4",
   "metadata": {},
   "outputs": [
    {
     "ename": "NameError",
     "evalue": "name 'n' is not defined",
     "output_type": "error",
     "traceback": [
      "\u001b[0;31m---------------------------------------------------------------------------\u001b[0m",
      "\u001b[0;31mNameError\u001b[0m                                 Traceback (most recent call last)",
      "Input \u001b[0;32mIn [3]\u001b[0m, in \u001b[0;36m<cell line: 2>\u001b[0;34m()\u001b[0m\n\u001b[1;32m      1\u001b[0m c1\u001b[38;5;241m=\u001b[39mnp\u001b[38;5;241m.\u001b[39marray(\u001b[38;5;241m0\u001b[39m)\n\u001b[0;32m----> 2\u001b[0m \u001b[38;5;28;01mfor\u001b[39;00m i \u001b[38;5;129;01min\u001b[39;00m \u001b[38;5;28mrange\u001b[39m(\u001b[43mn\u001b[49m):\n\u001b[1;32m      3\u001b[0m     c1\u001b[38;5;241m=\u001b[39mc1\u001b[38;5;241m+\u001b[39mnp\u001b[38;5;241m.\u001b[39mdot((np\u001b[38;5;241m.\u001b[39mmatrix(arr1[i])\u001b[38;5;241m-\u001b[39mm1)\u001b[38;5;241m.\u001b[39mT,np\u001b[38;5;241m.\u001b[39mmatrix(arr1[i])\u001b[38;5;241m-\u001b[39mm1)\n\u001b[1;32m      4\u001b[0m c1\u001b[38;5;241m=\u001b[39mc1\u001b[38;5;241m/\u001b[39mn\n",
      "\u001b[0;31mNameError\u001b[0m: name 'n' is not defined"
     ]
    }
   ],
   "source": [
    "c1=np.array(0)\n",
    "for i in range(n):\n",
    "    c1=c1+np.dot((np.matrix(arr1[i])-m1).T,np.matrix(arr1[i])-m1)\n",
    "c1=c1/n\n",
    "print(\"c1:\",c1)\n",
    "\n",
    "c2=np.array(0)\n",
    "for i in range(m):\n",
    "    c2=c2+np.dot((np.matrix(arr2[i])-m2).T,np.matrix(arr2[i])-m2)\n",
    "c2=c2/m\n",
    "print(\"c2:\",c2)"
   ]
  },
  {
   "cell_type": "code",
   "execution_count": 51,
   "id": "cd2e2e42",
   "metadata": {},
   "outputs": [
    {
     "data": {
      "text/plain": [
       "2.302585092994046"
      ]
     },
     "execution_count": 51,
     "metadata": {},
     "output_type": "execute_result"
    }
   ],
   "source": [
    "math.log(10,math.e)"
   ]
  },
  {
   "cell_type": "code",
   "execution_count": 76,
   "id": "389dbfa3",
   "metadata": {},
   "outputs": [
    {
     "name": "stdout",
     "output_type": "stream",
     "text": [
      "0.5\n",
      "0.5\n",
      "1 1 1\n"
     ]
    }
   ],
   "source": [
    "print(\"输入p1\")\n",
    "p1=float(input())\n",
    "print(\"输入P2\")\n",
    "p2=float(input())\n",
    "print(\"输入待判断x\")\n",
    "x=[]\n",
    "x.append(list(map(int,input().rstrip().split())))\n"
   ]
  },
  {
   "cell_type": "code",
   "execution_count": 77,
   "id": "289b371c",
   "metadata": {},
   "outputs": [
    {
     "name": "stdout",
     "output_type": "stream",
     "text": [
      "第二类情况\n"
     ]
    }
   ],
   "source": [
    "d1=math.log(p1,math.e)-math.log(np.linalg.norm(c1),math.e)/2\n",
    "-np.matrix(np.array(x)-m1)@(c1.I)@np.matrix(np.array(x)-m1).T/2\n",
    "print(\"d1:\",d1)\n",
    "\n",
    "d2=math.log(p2,math.e)-math.log(np.linalg.norm(c2),math.e)/2\n",
    "-np.matrix(np.array(x)-m2)@(c2.I)@np.matrix(np.array(x)-m2).T/2\n",
    "print(\"d2:\",d2)\n",
    "\n",
    "if d1>d2:\n",
    "    print(\"第一类情况\")\n",
    "else:\n",
    "    print(\"第二类情况\")"
   ]
  },
  {
   "cell_type": "code",
   "execution_count": null,
   "id": "ae6c22df",
   "metadata": {},
   "outputs": [],
   "source": []
  }
 ],
 "metadata": {
  "kernelspec": {
   "display_name": "Python [conda env:root] *",
   "language": "python",
   "name": "conda-root-py"
  },
  "language_info": {
   "codemirror_mode": {
    "name": "ipython",
    "version": 3
   },
   "file_extension": ".py",
   "mimetype": "text/x-python",
   "name": "python",
   "nbconvert_exporter": "python",
   "pygments_lexer": "ipython3",
   "version": "3.8.13"
  }
 },
 "nbformat": 4,
 "nbformat_minor": 5
}
